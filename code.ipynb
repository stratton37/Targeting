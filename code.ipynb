mport pandas as pd
import numpy as np
train = pd.read_csv(r'C:\Users\Nazanin.Jazayeri\Desktop\Kaggle - Directmail\input\train.csv')
test = pd.read_csv(r'C:\Users\Nazanin.Jazayeri\Desktop\Kaggle - Directmail\input\test.csv')
tandt = pd.concat([train, test], axis=0)
